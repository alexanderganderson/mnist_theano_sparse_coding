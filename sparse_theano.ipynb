{
 "metadata": {
  "name": "",
  "signature": "sha256:59953270fd8b3790f996d7e0a993cc0c9848ec2f87dcc65506abea8ef5d60503"
 },
 "nbformat": 3,
 "nbformat_minor": 0,
 "worksheets": [
  {
   "cells": [
    {
     "cell_type": "code",
     "collapsed": false,
     "input": [
      "import numpy as np\n",
      "import theano\n",
      "import theano.tensor as T\n",
      "import cPickle as pkl\n",
      "import matplotlib.pyplot as plt\n",
      "import sys\n",
      "from utils.theano_gradient_routines import ada_delta\n",
      "from utils.rf_plot import show_fields\n",
      "from scipy.io import loadmat\n",
      "from sklearn.preprocessing import normalize\n",
      "%matplotlib inline"
     ],
     "language": "python",
     "metadata": {},
     "outputs": [],
     "prompt_number": 1
    },
    {
     "cell_type": "code",
     "collapsed": false,
     "input": [
      "data_dir = \"data/final/\"\n",
      "data_fil = \"mnist.mat\"\n",
      "output_dir = 'output/'\n",
      "\n",
      "try:\n",
      "    IMAGES\n",
      "except NameError:\n",
      "    data = loadmat(data_dir + data_fil)\n",
      "    IMAGES = data['IMAGES']\n",
      "    LABELS = data['LABELS']\n",
      "    print \"Data Loaded\""
     ],
     "language": "python",
     "metadata": {},
     "outputs": [
      {
       "output_type": "stream",
       "stream": "stdout",
       "text": [
        "Data Loaded\n"
       ]
      }
     ],
     "prompt_number": 2
    },
    {
     "cell_type": "code",
     "collapsed": false,
     "input": [
      "K = IMAGES.shape[0]"
     ],
     "language": "python",
     "metadata": {},
     "outputs": [],
     "prompt_number": 3
    },
    {
     "cell_type": "code",
     "collapsed": false,
     "input": [
      "#IMAGES = IMAGES - np.mean(IMAGES.astype('float32'), axis = (1,2)).reshape(K, 1 ,1)"
     ],
     "language": "python",
     "metadata": {},
     "outputs": [],
     "prompt_number": 4
    },
    {
     "cell_type": "code",
     "collapsed": false,
     "input": [
      "# Normalize the variance of the images to be one\n",
      "IMAGES = IMAGES / np.sqrt(np.sum(IMAGES.astype('float32') ** 2, axis = (1, 2)).reshape(K, 1, 1))"
     ],
     "language": "python",
     "metadata": {},
     "outputs": [],
     "prompt_number": 5
    },
    {
     "cell_type": "code",
     "collapsed": false,
     "input": [
      "(K, L_img, L_img) = IMAGES.shape  # L_img - linear size of image\n",
      "N_pix_img = L_img ** 2\n",
      "\n",
      "K # Number of images\n",
      "L_pat = L_img  # Size of image patch\n",
      "N_pix = L_pat ** 2  # Number of pixels in a patch\n",
      "N_sp = 49 # Number of sparse dictionary elements\n",
      "N_bat = 100 # Number of images in a batch\n",
      "Alpha = 0.01 # coefficient for the sparse coefficients"
     ],
     "language": "python",
     "metadata": {},
     "outputs": [],
     "prompt_number": 6
    },
    {
     "cell_type": "code",
     "collapsed": false,
     "input": [
      "I_bat = np.zeros((N_bat, N_pix), dtype = 'float32') # Image batch\n",
      "D = np.zeros((N_sp, N_pix), dtype = 'float32') # Dictionary\n",
      "D[:, :] = np.random.random(D.shape) # Randomly initialize the dictionary\n",
      "D = normalize(D, axis = 1, norm = 'l2') # Normalize dictionary elements\n",
      "A = np.zeros((N_bat, N_sp), dtype = 'float32') # Initialize sparse coefficients\n",
      "# I - A * D is a typical computation done in theano"
     ],
     "language": "python",
     "metadata": {},
     "outputs": [],
     "prompt_number": 7
    },
    {
     "cell_type": "code",
     "collapsed": false,
     "input": [
      "t_Alpha = T.scalar('Alpha')\n",
      "\n",
      "t_Rho = T.scalar('Rho')\n",
      "t_Eps = T.scalar('Eps')\n",
      "t_ada_params = (t_Rho, t_Eps)\n",
      "\n",
      "t_I = theano.shared(IMAGES.reshape(K, N_pix_img).astype('float32'), 'I')\n",
      "t_D = theano.shared(D, 'D')\n",
      "t_A = theano.shared(A, 'A')\n",
      "t_I_idx = T.ivector('I_idx')"
     ],
     "language": "python",
     "metadata": {},
     "outputs": [],
     "prompt_number": 8
    },
    {
     "cell_type": "code",
     "collapsed": false,
     "input": [
      "t_E_rec = T.sum(T.mean((t_I[t_I_idx] - T.dot(t_A, t_D)) ** 2, axis = 0), axis = 0)\n",
      "t_E_rec.name = 'E_rec'\n",
      "t_E_sp = t_Alpha * T.mean(T.sum(T.abs_(t_A), axis = 0), axis = 0)\n",
      "t_E_sp.name = 'E_sp'\n",
      "t_E = t_E_rec + t_E_sp\n",
      "t_E.name = 'E'"
     ],
     "language": "python",
     "metadata": {},
     "outputs": [],
     "prompt_number": 9
    },
    {
     "cell_type": "code",
     "collapsed": false,
     "input": [
      "t_gED = T.grad(t_E, t_D)\n",
      "t_gEA = T.grad(t_E, t_A)"
     ],
     "language": "python",
     "metadata": {},
     "outputs": [],
     "prompt_number": 10
    },
    {
     "cell_type": "code",
     "collapsed": false,
     "input": [
      "def row_norm(t_X):\n",
      "    \"\"\"\n",
      "    Returns row normalized version of a theano matrix t_X\n",
      "    \"\"\"\n",
      "    return t_X / T.sqrt(T.sum(t_X ** 2, axis = 1)).dimshuffle(0, 'x')"
     ],
     "language": "python",
     "metadata": {},
     "outputs": [],
     "prompt_number": 11
    },
    {
     "cell_type": "code",
     "collapsed": false,
     "input": [
      "inference_updates = ada_delta(t_E, t_A, *t_ada_params)"
     ],
     "language": "python",
     "metadata": {},
     "outputs": [],
     "prompt_number": 12
    },
    {
     "cell_type": "code",
     "collapsed": false,
     "input": [
      "inference = theano.function(inputs = [t_I_idx, t_Alpha, t_Rho, t_Eps],\n",
      "                            outputs = [t_E, t_E_rec, t_E_sp],\n",
      "                            #updates = [(t_A, t_A - 0.01 * t_gEA)])\n",
      "                            updates = inference_updates)"
     ],
     "language": "python",
     "metadata": {},
     "outputs": [],
     "prompt_number": 13
    },
    {
     "cell_type": "code",
     "collapsed": false,
     "input": [
      "coeff_abs = theano.function(inputs = [],\n",
      "                            outputs = [],\n",
      "                            updates = [( t_A, T.abs_(t_A) )] )"
     ],
     "language": "python",
     "metadata": {},
     "outputs": [],
     "prompt_number": 14
    },
    {
     "cell_type": "code",
     "collapsed": false,
     "input": [
      "t_Eta = T.scalar('eta')"
     ],
     "language": "python",
     "metadata": {},
     "outputs": [],
     "prompt_number": 15
    },
    {
     "cell_type": "code",
     "collapsed": false,
     "input": [
      "learning = theano.function(inputs = [t_I_idx, t_Alpha, t_Eta],\n",
      "                           outputs = [t_E, t_E_rec, t_E_sp],\n",
      "                           updates = [(t_D, row_norm(t_D - t_Eta * row_norm(t_gED)))])"
     ],
     "language": "python",
     "metadata": {},
     "outputs": [],
     "prompt_number": 16
    },
    {
     "cell_type": "code",
     "collapsed": false,
     "input": [
      "#plt.imshow(t_I.get_value()[0].reshape(14,14), cmap = plt.cm.gray)\n",
      "#plt.colorbar()"
     ],
     "language": "python",
     "metadata": {},
     "outputs": [],
     "prompt_number": 17
    },
    {
     "cell_type": "code",
     "collapsed": false,
     "input": [
      "Alpha = 0.01"
     ],
     "language": "python",
     "metadata": {},
     "outputs": [],
     "prompt_number": 21
    },
    {
     "cell_type": "code",
     "collapsed": false,
     "input": [
      "# Run code snippet below for Eta = 0.01 for 200 steps, then 0.003, 0.001"
     ],
     "language": "python",
     "metadata": {},
     "outputs": [],
     "prompt_number": 22
    },
    {
     "cell_type": "code",
     "collapsed": false,
     "input": [
      "Eta = 0.01"
     ],
     "language": "python",
     "metadata": {},
     "outputs": [],
     "prompt_number": 23
    },
    {
     "cell_type": "code",
     "collapsed": false,
     "input": [
      "def train(N_itr = 100, N_g_itr = 250, Rho = 0.9, Eps = 0.0000001, Eta = 0.01):\n",
      "    \"\"\"\n",
      "    Run the optimization for the dictionary\n",
      "    For N_itr operations,\n",
      "    Find the best sparse coefficients given the dictionary using the following \n",
      "        parameters for adadelta\n",
      "        N_g_itr -> number of gradient steps\n",
      "        Rho, Eps -> as usually defined for adadelta\n",
      "    Eta -> gradient step size for the dictionary\n",
      "    \"\"\"\n",
      "    for mu in range(N_itr):\n",
      "        for var in inference_updates.keys():\n",
      "            var.set_value(np.zeros_like(var.get_value()))\n",
      "        I_idx = np.random.randint(K, size = N_bat).astype('int32')\n",
      "\n",
      "        for i in range(N_g_itr):\n",
      "            E, E_rec, E_sp = inference(I_idx, Alpha, Rho, Eps)\n",
      "            #coeff_abs()\n",
      "            if (i % 10 == 0) and mu == (N_itr - 1):\n",
      "                print E, E_rec, E_sp\n",
      "        E, _, _ = learning(I_idx, Alpha, Eta)\n",
      "        if (mu % 10 == 0):\n",
      "            print E"
     ],
     "language": "python",
     "metadata": {},
     "outputs": [],
     "prompt_number": 24
    },
    {
     "cell_type": "code",
     "collapsed": false,
     "input": [
      "train(N_itr = 200, Eta = 0.01)"
     ],
     "language": "python",
     "metadata": {},
     "outputs": [
      {
       "output_type": "stream",
       "stream": "stdout",
       "text": [
        "0.738586962223\n",
        "0.515309810638"
       ]
      },
      {
       "output_type": "stream",
       "stream": "stdout",
       "text": [
        "\n",
        "0.422457545996"
       ]
      },
      {
       "output_type": "stream",
       "stream": "stdout",
       "text": [
        "\n",
        "0.351443618536"
       ]
      },
      {
       "output_type": "stream",
       "stream": "stdout",
       "text": [
        "\n",
        "0.316581010818"
       ]
      },
      {
       "output_type": "stream",
       "stream": "stdout",
       "text": [
        "\n",
        "0.282246947289"
       ]
      },
      {
       "output_type": "stream",
       "stream": "stdout",
       "text": [
        "\n",
        "0.249588996172"
       ]
      },
      {
       "output_type": "stream",
       "stream": "stdout",
       "text": [
        "\n",
        "0.233141615987"
       ]
      },
      {
       "output_type": "stream",
       "stream": "stdout",
       "text": [
        "\n",
        "0.217108607292"
       ]
      },
      {
       "output_type": "stream",
       "stream": "stdout",
       "text": [
        "\n",
        "0.20050907135"
       ]
      },
      {
       "output_type": "stream",
       "stream": "stdout",
       "text": [
        "\n",
        "0.201800137758"
       ]
      },
      {
       "output_type": "stream",
       "stream": "stdout",
       "text": [
        "\n",
        "0.189348340034"
       ]
      },
      {
       "output_type": "stream",
       "stream": "stdout",
       "text": [
        "\n",
        "0.182355552912"
       ]
      },
      {
       "output_type": "stream",
       "stream": "stdout",
       "text": [
        "\n",
        "0.168755471706"
       ]
      },
      {
       "output_type": "stream",
       "stream": "stdout",
       "text": [
        "\n",
        "0.18123409152"
       ]
      },
      {
       "output_type": "stream",
       "stream": "stdout",
       "text": [
        "\n",
        "0.167786359787"
       ]
      },
      {
       "output_type": "stream",
       "stream": "stdout",
       "text": [
        "\n",
        "0.153965070844"
       ]
      },
      {
       "output_type": "stream",
       "stream": "stdout",
       "text": [
        "\n",
        "0.15821531415"
       ]
      },
      {
       "output_type": "stream",
       "stream": "stdout",
       "text": [
        "\n",
        "0.158161848783"
       ]
      },
      {
       "output_type": "stream",
       "stream": "stdout",
       "text": [
        "\n",
        "0.158690065145"
       ]
      },
      {
       "output_type": "stream",
       "stream": "stdout",
       "text": [
        "\n",
        "1.0"
       ]
      },
      {
       "output_type": "stream",
       "stream": "stdout",
       "text": [
        " 1.0 0.0\n",
        "0.787749648094 0.779292166233 0.00845750700682\n",
        "0.647317826748 0.631743013859 0.0155748091638\n",
        "0.549038589001 0.527412950993 0.0216256193817\n",
        "0.476201891899 0.449291110039 0.0269107762724\n",
        "0.419916510582 0.388335675001 0.0315808393061\n",
        "0.375022470951 0.339262187481 0.0357602722943\n",
        "0.338336527348 0.298798412085 0.0395381115377\n",
        "0.307835191488 0.264850705862 0.0429844781756\n",
        "0.282168418169 0.236039683223 0.046128731221\n",
        "0.260476559401 0.211456909776 0.0490196458995\n",
        "0.242126196623 0.190453246236 0.0516729578376\n",
        "0.226671025157 0.172549575567 0.054121453315\n",
        "0.213675677776"
       ]
      },
      {
       "output_type": "stream",
       "stream": "stdout",
       "text": [
        " 0.157314658165 0.0563610196114\n",
        "0.20274540782 0.144365549088 0.0583798550069\n",
        "0.19355930388 0.133376955986 0.0601823441684\n",
        "0.185868561268 0.124079152942 0.0617894046009\n",
        "0.179459899664 0.116238743067 0.0632211640477\n",
        "0.174110293388 0.109627269208 0.0644830167294\n",
        "0.169657081366 0.104060582817 0.0655965059996\n",
        "0.165936514735 0.0993717834353 0.0665647312999\n",
        "0.162828430533 0.095419973135 0.0674084573984\n",
        "0.160229191184 0.0920865535736 0.0681426376104\n",
        "0.158053144813 0.0892721936107 0.0687809512019\n",
        "0.156225889921 0.0868940725923 0.0693318173289\n"
       ]
      }
     ],
     "prompt_number": 25
    },
    {
     "cell_type": "code",
     "collapsed": false,
     "input": [
      "train(N_itr = 100, Eta = 0.003)"
     ],
     "language": "python",
     "metadata": {},
     "outputs": [
      {
       "output_type": "stream",
       "stream": "stdout",
       "text": [
        "0.152713000774\n",
        "0.148688673973"
       ]
      },
      {
       "output_type": "stream",
       "stream": "stdout",
       "text": [
        "\n",
        "0.15642157197"
       ]
      },
      {
       "output_type": "stream",
       "stream": "stdout",
       "text": [
        "\n",
        "0.146065920591"
       ]
      },
      {
       "output_type": "stream",
       "stream": "stdout",
       "text": [
        "\n",
        "0.145049244165"
       ]
      },
      {
       "output_type": "stream",
       "stream": "stdout",
       "text": [
        "\n",
        "0.15299859643"
       ]
      },
      {
       "output_type": "stream",
       "stream": "stdout",
       "text": [
        "\n",
        "0.150096386671"
       ]
      },
      {
       "output_type": "stream",
       "stream": "stdout",
       "text": [
        "\n",
        "0.150984123349"
       ]
      },
      {
       "output_type": "stream",
       "stream": "stdout",
       "text": [
        "\n",
        "0.143859028816"
       ]
      },
      {
       "output_type": "stream",
       "stream": "stdout",
       "text": [
        "\n",
        "0.146470844746"
       ]
      },
      {
       "output_type": "stream",
       "stream": "stdout",
       "text": [
        "\n",
        "1.0"
       ]
      },
      {
       "output_type": "stream",
       "stream": "stdout",
       "text": [
        " 1.0 0.0\n",
        "0.789438486099 0.780955731869 0.00848276168108\n",
        "0.646039783955 0.630307018757 0.0157327912748\n",
        "0.545987188816 0.524076938629 0.021910276264\n",
        "0.472454935312 0.445232987404 0.0272219348699\n",
        "0.415922999382 0.384057760239 0.0318652354181\n",
        "0.370924711227 0.334921061993 0.0360036455095\n",
        "0.334102571011 0.294377833605 0.0397247485816\n",
        "0.303396642208 0.260294675827 0.0431019812822\n",
        "0.277524799109 0.231334984303 0.0461898185313\n",
        "0.255613237619 0.206597581506 0.0490156598389\n",
        "0.237045735121 0.185445219278 0.0516005158424\n",
        "0.221384063363"
       ]
      },
      {
       "output_type": "stream",
       "stream": "stdout",
       "text": [
        " 0.16740514338 0.0539789237082\n",
        "0.208186656237 0.152043834329 0.0561428256333\n",
        "0.197091311216 0.138992831111 0.0580984726548\n",
        "0.187795430422 0.127936214209 0.0598592124879\n",
        "0.180013030767 0.118585899472 0.0614271275699\n",
        "0.173492968082 0.110684357584 0.0628086179495\n",
        "0.168031305075 0.104012988508 0.0640183240175\n",
        "0.163478970528 0.0983996316791 0.0650793388486\n",
        "0.159684583545 0.093682654202 0.0660019293427\n",
        "0.156520575285 0.0897167176008 0.0668038502336\n",
        "0.153883218765 0.0863859951496 0.0674972310662\n",
        "0.15167619288 0.0835832208395 0.0680929720402\n",
        "0.149832993746 0.0812240317464 0.0686089619994\n"
       ]
      }
     ],
     "prompt_number": 26
    },
    {
     "cell_type": "code",
     "collapsed": false,
     "input": [
      "train(N_itr = 100, Eta = 0.001)"
     ],
     "language": "python",
     "metadata": {},
     "outputs": [
      {
       "output_type": "stream",
       "stream": "stdout",
       "text": [
        "0.142358317971\n",
        "0.14537101984"
       ]
      },
      {
       "output_type": "stream",
       "stream": "stdout",
       "text": [
        "\n",
        "0.148539572954"
       ]
      },
      {
       "output_type": "stream",
       "stream": "stdout",
       "text": [
        "\n",
        "0.143346101046"
       ]
      },
      {
       "output_type": "stream",
       "stream": "stdout",
       "text": [
        "\n",
        "0.139678865671"
       ]
      },
      {
       "output_type": "stream",
       "stream": "stdout",
       "text": [
        "\n",
        "0.146358698606"
       ]
      },
      {
       "output_type": "stream",
       "stream": "stdout",
       "text": [
        "\n",
        "0.136698007584"
       ]
      },
      {
       "output_type": "stream",
       "stream": "stdout",
       "text": [
        "\n",
        "0.139943480492"
       ]
      },
      {
       "output_type": "stream",
       "stream": "stdout",
       "text": [
        "\n",
        "0.137993633747"
       ]
      },
      {
       "output_type": "stream",
       "stream": "stdout",
       "text": [
        "\n",
        "0.141140073538"
       ]
      },
      {
       "output_type": "stream",
       "stream": "stdout",
       "text": [
        "\n",
        "1.0"
       ]
      },
      {
       "output_type": "stream",
       "stream": "stdout",
       "text": [
        " 1.0 0.0\n",
        "0.790214121342 0.78166526556 0.00854887068272\n",
        "0.64589715004 0.630034029484 0.0158631242812\n",
        "0.544916689396 0.522855043411 0.0220616739243\n",
        "0.470747292042 0.44335269928 0.0273945834488\n",
        "0.413751989603 0.381703644991 0.032048355788\n",
        "0.368258982897 0.332116007805 0.0361429825425\n",
        "0.331005454063 0.291180342436 0.039825104177\n",
        "0.300014436245 0.256815582514 0.043198864907\n",
        "0.273971378803 0.227672874928 0.046298507601\n",
        "0.25198340416 0.20284229517 0.0491411089897\n",
        "0.233443751931"
       ]
      },
      {
       "output_type": "stream",
       "stream": "stdout",
       "text": [
        " 0.181692242622 0.0517515093088\n",
        "0.217890113592 0.163731962442 0.0541581474245\n",
        "0.204852715135 0.14850756526 0.0563451461494\n",
        "0.193954080343 0.135632947087 0.0583211295307\n",
        "0.184864208102 0.124774314463 0.0600898973644\n",
        "0.177280157804 0.115625984967 0.0616541802883\n",
        "0.170965701342 0.107932642102 0.06303306669\n",
        "0.165704831481 0.101467736065 0.0642370954156\n",
        "0.161328524351 0.0960409417748 0.0652875900269\n",
        "0.157703876495 0.0915000140667 0.0662038698792\n",
        "0.154695242643 0.0876989290118 0.0669963210821\n",
        "0.152197480202"
       ]
      },
      {
       "output_type": "stream",
       "stream": "stdout",
       "text": [
        " 0.0845145061612 0.0676829814911\n",
        "0.150123104453 0.0818466171622 0.0682764872909\n",
        "0.148397803307 0.0796101987362 0.0687875971198\n"
       ]
      }
     ],
     "prompt_number": 27
    },
    {
     "cell_type": "code",
     "collapsed": false,
     "input": [
      "plt.subplot(1,2,1)\n",
      "plt.imshow(np.dot(t_A.get_value(), t_D.get_value())[1].reshape(14, 14),\n",
      "           interpolation = 'nearest',\n",
      "           cmap = plt.cm.gray)\n",
      "plt.colorbar()\n",
      "#plt.subplot(1,2,2)\n",
      "#plt.imshow(t_I.get_value()[I_idx][0].reshape(14, 14),\n",
      "#           interpolation = 'nearest',\n",
      "#           cmap = plt.cm.gray)\n",
      "#plt.colorbar()"
     ],
     "language": "python",
     "metadata": {},
     "outputs": [
      {
       "metadata": {},
       "output_type": "pyout",
       "prompt_number": 31,
       "text": [
        "<matplotlib.colorbar.Colorbar instance at 0x11ab39170>"
       ]
      },
      {
       "metadata": {},
       "output_type": "display_data",
       "png": "[encoded data removed]",
       "text": [
        "<matplotlib.figure.Figure at 0x11a0d2bd0>"
       ]
      }
     ],
     "prompt_number": 31
    },
    {
     "cell_type": "code",
     "collapsed": false,
     "input": [
      "show_fields(t_D.get_value())\n",
      "plt.savefig(output_dir + 'mnist_basis.png', dpi = 200)"
     ],
     "language": "python",
     "metadata": {},
     "outputs": [
      {
       "metadata": {},
       "output_type": "display_data",
       "png": "[encoded data removed]",
       "text": [
        "<matplotlib.figure.Figure at 0x11a0f6390>"
       ]
      }
     ],
     "prompt_number": 32
    },
    {
     "cell_type": "code",
     "collapsed": false,
     "input": [
      "plt.hist(t_A.get_value().ravel())"
     ],
     "language": "python",
     "metadata": {},
     "outputs": [
      {
       "metadata": {},
       "output_type": "pyout",
       "prompt_number": 33,
       "text": [
        "(array([  1.00000000e+00,   9.00000000e+00,   1.06000000e+02,\n",
        "          2.64000000e+02,   4.51000000e+02,   7.27000000e+02,\n",
        "          1.48100000e+03,   1.08300000e+03,   6.79000000e+02,\n",
        "          9.90000000e+01]),\n",
        " array([-0.34292507, -0.28658403, -0.23024299, -0.17390195, -0.11756091,\n",
        "        -0.06121987, -0.00487883,  0.05146221,  0.10780325,  0.16414429,\n",
        "         0.22048533]),\n",
        " <a list of 10 Patch objects>)"
       ]
      },
      {
       "metadata": {},
       "output_type": "display_data",
       "png": "[encoded data removed]",
       "text": [
        "<matplotlib.figure.Figure at 0x11a2e4c10>"
       ]
      }
     ],
     "prompt_number": 33
    },
    {
     "cell_type": "code",
     "collapsed": false,
     "input": [
      "# Things to save:\n",
      "#  parameters of the model\n",
      "#  learned dictionary"
     ],
     "language": "python",
     "metadata": {},
     "outputs": [],
     "prompt_number": 34
    },
    {
     "cell_type": "code",
     "collapsed": false,
     "input": [
      "from scipy.io import savemat"
     ],
     "language": "python",
     "metadata": {},
     "outputs": [],
     "prompt_number": 35
    },
    {
     "cell_type": "code",
     "collapsed": false,
     "input": [
      "savemat(output_dir + 'mnist_dictionary.mat', {'D': t_D.get_value(), \n",
      "                                 'Alpha': Alpha})"
     ],
     "language": "python",
     "metadata": {},
     "outputs": [],
     "prompt_number": 36
    },
    {
     "cell_type": "code",
     "collapsed": false,
     "input": [],
     "language": "python",
     "metadata": {},
     "outputs": []
    }
   ],
   "metadata": {}
  }
 ]
}