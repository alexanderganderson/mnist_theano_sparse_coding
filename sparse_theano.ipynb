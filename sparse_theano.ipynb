{
 "metadata": {
  "name": "",
  "signature": "sha256:310e1f184082bb500530f840a184f494da56cbf49dfc970f04583f7121ba1973"
 },
 "nbformat": 3,
 "nbformat_minor": 0,
 "worksheets": [
  {
   "cells": [
    {
     "cell_type": "code",
     "collapsed": false,
     "input": [
      "import numpy as np\n",
      "import matplotlib.pyplot as plt\n",
      "%matplotlib inline\n",
      "from scipy.io import savemat, loadmat\n",
      "import theano\n",
      "import theano.tensor as T\n",
      "from sklearn.preprocessing import normalize\n",
      "from utils.theano_gradient_routines import ada_delta\n",
      "from utils.rf_plot import show_fields"
     ],
     "language": "python",
     "metadata": {},
     "outputs": [],
     "prompt_number": 53
    },
    {
     "cell_type": "code",
     "collapsed": false,
     "input": [
      "data_dir = \"data/final/\"\n",
      "data_fil = \"mnist.mat\"\n",
      "output_dir = 'output/'\n",
      "\n",
      "try:\n",
      "    IMAGES\n",
      "except NameError:\n",
      "    data = loadmat(data_dir + data_fil)\n",
      "    IMAGES = data['IMAGES']\n",
      "    LABELS = data['LABELS']\n",
      "    print \"Data Loaded\""
     ],
     "language": "python",
     "metadata": {},
     "outputs": [],
     "prompt_number": 23
    },
    {
     "cell_type": "code",
     "collapsed": false,
     "input": [
      "K = IMAGES.shape[0]"
     ],
     "language": "python",
     "metadata": {},
     "outputs": [],
     "prompt_number": 59
    },
    {
     "cell_type": "code",
     "collapsed": false,
     "input": [
      "#IMAGES = IMAGES - np.mean(IMAGES.astype('float32'), axis = (1,2)).reshape(K, 1 ,1)"
     ],
     "language": "python",
     "metadata": {},
     "outputs": [],
     "prompt_number": 60
    },
    {
     "cell_type": "code",
     "collapsed": false,
     "input": [
      "# Normalize the variance of the images to be one\n",
      "#IMAGES = IMAGES / np.sqrt(np.sum(IMAGES.astype('float32') ** 2, axis = (1, 2)).reshape(K, 1, 1))\n",
      "IMAGES = IMAGES / np.max(IMAGES.astype('float32'), axis = (1, 2)).reshape(K, 1, 1)"
     ],
     "language": "python",
     "metadata": {},
     "outputs": [],
     "prompt_number": 61
    },
    {
     "cell_type": "code",
     "collapsed": false,
     "input": [
      "np.mean(np.sum(IMAGES ** 2, axis = (1,2)))"
     ],
     "language": "python",
     "metadata": {},
     "outputs": [
      {
       "metadata": {},
       "output_type": "pyout",
       "prompt_number": 58,
       "text": [
        "19.325377"
       ]
      }
     ],
     "prompt_number": 58
    },
    {
     "cell_type": "code",
     "collapsed": false,
     "input": [
      "(K, L_img, L_img) = IMAGES.shape  # L_img - linear size of image\n",
      "N_pix_img = L_img ** 2\n",
      "\n",
      "K # Number of images\n",
      "L_pat = L_img  # Size of image patch\n",
      "N_pix = L_pat ** 2  # Number of pixels in a patch\n",
      "N_sp = 49 # Number of sparse dictionary elements\n",
      "N_bat = 100 # Number of images in a batch\n",
      "Alpha = 0.003 # coefficient for the sparse coefficients"
     ],
     "language": "python",
     "metadata": {},
     "outputs": [],
     "prompt_number": 125
    },
    {
     "cell_type": "code",
     "collapsed": false,
     "input": [
      "I_bat = np.zeros((N_bat, N_pix), dtype = 'float32') # Image batch\n",
      "D = np.zeros((N_sp, N_pix), dtype = 'float32') # Dictionary\n",
      "D[:, :] = np.random.random(D.shape) # Randomly initialize the dictionary\n",
      "D = normalize(D, axis = 1, norm = 'l2') # Normalize dictionary elements\n",
      "A = np.zeros((N_bat, N_sp), dtype = 'float32') # Initialize sparse coefficients\n",
      "# I - A * D is a typical computation done in theano"
     ],
     "language": "python",
     "metadata": {},
     "outputs": [],
     "prompt_number": 126
    },
    {
     "cell_type": "code",
     "collapsed": false,
     "input": [
      "t_Alpha = T.scalar('Alpha')\n",
      "\n",
      "t_Rho = T.scalar('Rho')\n",
      "t_Eps = T.scalar('Eps')\n",
      "t_ada_params = (t_Rho, t_Eps)\n",
      "\n",
      "t_I = theano.shared(IMAGES.reshape(K, N_pix_img).astype('float32'), 'I')\n",
      "t_D = theano.shared(D, 'D')\n",
      "t_A = theano.shared(A, 'A')\n",
      "t_I_idx = T.ivector('I_idx')"
     ],
     "language": "python",
     "metadata": {},
     "outputs": [],
     "prompt_number": 127
    },
    {
     "cell_type": "code",
     "collapsed": false,
     "input": [
      "t_E_rec = T.sum(T.mean((t_I[t_I_idx] - T.dot(t_A, t_D)) ** 2, axis = 0), axis = 0)\n",
      "t_E_rec.name = 'E_rec'\n",
      "t_E_sp = t_Alpha * T.mean(T.sum(T.abs_(t_A), axis = 0), axis = 0)\n",
      "t_E_sp.name = 'E_sp'\n",
      "t_E = t_E_rec + t_E_sp\n",
      "t_E.name = 'E'"
     ],
     "language": "python",
     "metadata": {},
     "outputs": [],
     "prompt_number": 128
    },
    {
     "cell_type": "code",
     "collapsed": false,
     "input": [
      "t_gED = T.grad(t_E, t_D)\n",
      "t_gEA = T.grad(t_E, t_A)"
     ],
     "language": "python",
     "metadata": {},
     "outputs": [],
     "prompt_number": 129
    },
    {
     "cell_type": "code",
     "collapsed": false,
     "input": [
      "def row_norm(t_X):\n",
      "    \"\"\"\n",
      "    Returns row normalized version of a theano matrix t_X\n",
      "    \"\"\"\n",
      "    return t_X / T.sqrt(T.sum(t_X ** 2, axis = 1)).dimshuffle(0, 'x')"
     ],
     "language": "python",
     "metadata": {},
     "outputs": [],
     "prompt_number": 130
    },
    {
     "cell_type": "code",
     "collapsed": false,
     "input": [
      "inference_updates = ada_delta(t_E, t_A, *t_ada_params)"
     ],
     "language": "python",
     "metadata": {},
     "outputs": [],
     "prompt_number": 131
    },
    {
     "cell_type": "code",
     "collapsed": false,
     "input": [
      "inference = theano.function(inputs = [t_I_idx, t_Alpha, t_Rho, t_Eps],\n",
      "                            outputs = [t_E, t_E_rec, t_E_sp],\n",
      "                            #updates = [(t_A, t_A - 0.01 * t_gEA)])\n",
      "                            updates = inference_updates)"
     ],
     "language": "python",
     "metadata": {},
     "outputs": [],
     "prompt_number": 132
    },
    {
     "cell_type": "code",
     "collapsed": false,
     "input": [
      "coeff_abs = theano.function(inputs = [],\n",
      "                            outputs = [],\n",
      "                            updates = [( t_A, T.abs_(t_A) )] )"
     ],
     "language": "python",
     "metadata": {},
     "outputs": [],
     "prompt_number": 133
    },
    {
     "cell_type": "code",
     "collapsed": false,
     "input": [
      "t_Eta = T.scalar('eta')"
     ],
     "language": "python",
     "metadata": {},
     "outputs": [],
     "prompt_number": 134
    },
    {
     "cell_type": "code",
     "collapsed": false,
     "input": [
      "learning = theano.function(inputs = [t_I_idx, t_Alpha, t_Eta],\n",
      "                           outputs = [t_E, t_E_rec, t_E_sp],\n",
      "                           updates = [(t_D, row_norm(t_D - t_Eta * row_norm(t_gED)))])"
     ],
     "language": "python",
     "metadata": {},
     "outputs": [],
     "prompt_number": 135
    },
    {
     "cell_type": "code",
     "collapsed": false,
     "input": [
      "costs = theano.function(inputs = [t_I_idx, t_Alpha],\n",
      "                           outputs = [t_E, t_E_rec, t_E_sp])"
     ],
     "language": "python",
     "metadata": {},
     "outputs": [],
     "prompt_number": 136
    },
    {
     "cell_type": "code",
     "collapsed": false,
     "input": [
      "#plt.imshow(t_I.get_value()[0].reshape(14,14), cmap = plt.cm.gray)\n",
      "#plt.colorbar()"
     ],
     "language": "python",
     "metadata": {},
     "outputs": [],
     "prompt_number": 137
    },
    {
     "cell_type": "code",
     "collapsed": false,
     "input": [
      "def train(N_itr = 100, N_g_itr = 250, Rho = 0.9, Eps = 0.0000001, Eta = 0.01):\n",
      "    \"\"\"\n",
      "    Run the optimization for the dictionary\n",
      "    For N_itr operations,\n",
      "    Find the best sparse coefficients given the dictionary using the following \n",
      "        parameters for adadelta\n",
      "        N_g_itr -> number of gradient steps\n",
      "        Rho, Eps -> as usually defined for adadelta\n",
      "    Eta -> gradient step size for the dictionary\n",
      "    \"\"\"\n",
      "    for mu in range(N_itr):\n",
      "        for var in inference_updates.keys():\n",
      "            var.set_value(np.zeros_like(var.get_value()))\n",
      "        I_idx = np.random.randint(K, size = N_bat).astype('int32')\n",
      "\n",
      "        for i in range(N_g_itr):\n",
      "            E, E_rec, E_sp = inference(I_idx, Alpha, Rho, Eps)\n",
      "            #coeff_abs()\n",
      "            if (i % 10 == 0) and mu == (N_itr - 1):\n",
      "                print E, E_rec, E_sp\n",
      "        E, _, _ = learning(I_idx, Alpha, Eta)\n",
      "        if (mu % 10 == 0):\n",
      "            print E"
     ],
     "language": "python",
     "metadata": {},
     "outputs": [],
     "prompt_number": 138
    },
    {
     "cell_type": "code",
     "collapsed": false,
     "input": [
      "train(N_itr = 200, Eta = 0.01)"
     ],
     "language": "python",
     "metadata": {},
     "outputs": [
      {
       "output_type": "stream",
       "stream": "stdout",
       "text": [
        "14.7435245514\n",
        "11.3900909424"
       ]
      },
      {
       "output_type": "stream",
       "stream": "stdout",
       "text": [
        "\n",
        "9.22646999359"
       ]
      },
      {
       "output_type": "stream",
       "stream": "stdout",
       "text": [
        "\n",
        "8.67966842651"
       ]
      },
      {
       "output_type": "stream",
       "stream": "stdout",
       "text": [
        "\n",
        "8.29192638397"
       ]
      },
      {
       "output_type": "stream",
       "stream": "stdout",
       "text": [
        "\n",
        "7.30721902847"
       ]
      },
      {
       "output_type": "stream",
       "stream": "stdout",
       "text": [
        "\n",
        "6.97736740112"
       ]
      },
      {
       "output_type": "stream",
       "stream": "stdout",
       "text": [
        "\n",
        "6.3084526062"
       ]
      },
      {
       "output_type": "stream",
       "stream": "stdout",
       "text": [
        "\n",
        "5.73961114883"
       ]
      },
      {
       "output_type": "stream",
       "stream": "stdout",
       "text": [
        "\n",
        "5.67723369598"
       ]
      },
      {
       "output_type": "stream",
       "stream": "stdout",
       "text": [
        "\n",
        "5.54524374008"
       ]
      },
      {
       "output_type": "stream",
       "stream": "stdout",
       "text": [
        "\n",
        "4.97032213211"
       ]
      },
      {
       "output_type": "stream",
       "stream": "stdout",
       "text": [
        "\n",
        "4.95092773438"
       ]
      },
      {
       "output_type": "stream",
       "stream": "stdout",
       "text": [
        "\n",
        "4.75807476044"
       ]
      },
      {
       "output_type": "stream",
       "stream": "stdout",
       "text": [
        "\n",
        "4.8402504921"
       ]
      },
      {
       "output_type": "stream",
       "stream": "stdout",
       "text": [
        "\n",
        "4.61160039902"
       ]
      },
      {
       "output_type": "stream",
       "stream": "stdout",
       "text": [
        "\n",
        "4.54738140106"
       ]
      },
      {
       "output_type": "stream",
       "stream": "stdout",
       "text": [
        "\n",
        "4.52715969086"
       ]
      },
      {
       "output_type": "stream",
       "stream": "stdout",
       "text": [
        "\n",
        "4.71578884125"
       ]
      },
      {
       "output_type": "stream",
       "stream": "stdout",
       "text": [
        "\n",
        "4.36837339401"
       ]
      },
      {
       "output_type": "stream",
       "stream": "stdout",
       "text": [
        "\n",
        "18.6172924042"
       ]
      },
      {
       "output_type": "stream",
       "stream": "stdout",
       "text": [
        " 18.6172924042 0.0\n",
        "17.0761184692 17.0730552673 0.00306318257935\n",
        "15.6485204697 15.6423912048 0.0061295372434\n",
        "14.3671951294 14.3580856323 0.00910992361605\n",
        "13.2238750458 13.2118835449 0.0119917197153\n",
        "12.2051696777 12.1903905869 0.0147795481607\n",
        "11.297668457 11.2801856995 0.0174831114709\n",
        "10.4891080856 10.4690036774 0.0201043188572\n",
        "9.76857089996 9.74591827393 0.0226527117193\n",
        "9.1262922287 9.10117149353 0.0251210201532\n",
        "8.55355072021 8.52603816986 0.027512839064\n",
        "8.04249286652 8.0126657486 0.0298271719366\n",
        "7.58596563339"
       ]
      },
      {
       "output_type": "stream",
       "stream": "stdout",
       "text": [
        " 7.55390262604 0.0320631340146\n",
        "7.17741441727 7.14318990707 0.0342244170606\n",
        "6.81082391739 6.77450370789 0.0363199934363\n",
        "6.48072195053 6.4423828125 0.0383392013609\n",
        "6.18225479126 6.14197683334 0.0402779430151\n",
        "5.91119813919 5.86906003952 0.042138196528\n",
        "5.66393470764 5.62001180649 0.0439231209457\n",
        "5.43749332428 5.3918428421 0.0456503629684\n",
        "5.22944736481 5.18210792542 0.0473392121494\n",
        "5.03770685196 4.98873853683 0.048968449235\n",
        "4.8605837822 4.81002950668 0.0505542419851\n",
        "4.696641922"
       ]
      },
      {
       "output_type": "stream",
       "stream": "stdout",
       "text": [
        " 4.6445350647 0.0521066971123\n",
        "4.5446395874 4.49101161957 0.0536280572414\n"
       ]
      }
     ],
     "prompt_number": 139
    },
    {
     "cell_type": "code",
     "collapsed": false,
     "input": [
      "train(N_itr = 100, Eta = 0.003)"
     ],
     "language": "python",
     "metadata": {},
     "outputs": [
      {
       "output_type": "stream",
       "stream": "stdout",
       "text": [
        "4.46636390686\n",
        "4.39213514328"
       ]
      },
      {
       "output_type": "stream",
       "stream": "stdout",
       "text": [
        "\n",
        "4.19972372055"
       ]
      },
      {
       "output_type": "stream",
       "stream": "stdout",
       "text": [
        "\n",
        "4.17448568344"
       ]
      },
      {
       "output_type": "stream",
       "stream": "stdout",
       "text": [
        "\n",
        "4.28559303284"
       ]
      },
      {
       "output_type": "stream",
       "stream": "stdout",
       "text": [
        "\n",
        "4.05355215073"
       ]
      },
      {
       "output_type": "stream",
       "stream": "stdout",
       "text": [
        "\n",
        "4.35268974304"
       ]
      },
      {
       "output_type": "stream",
       "stream": "stdout",
       "text": [
        "\n",
        "4.31838798523"
       ]
      },
      {
       "output_type": "stream",
       "stream": "stdout",
       "text": [
        "\n",
        "4.23483991623"
       ]
      },
      {
       "output_type": "stream",
       "stream": "stdout",
       "text": [
        "\n",
        "4.42680215836"
       ]
      },
      {
       "output_type": "stream",
       "stream": "stdout",
       "text": [
        "\n",
        "19.2776908875"
       ]
      },
      {
       "output_type": "stream",
       "stream": "stdout",
       "text": [
        " 19.2776908875 0.0\n",
        "17.7176265717 17.7145614624 0.00306590949185\n",
        "16.2573566437 16.251209259 0.00614649243653\n",
        "14.9330730438 14.923915863 0.009157307446\n",
        "13.739982605 13.7278938293 0.0120888650417\n",
        "12.667550087 12.6526155472 0.0149347372353\n",
        "11.7046022415 11.6869068146 0.0176953412592\n",
        "10.8405694962 10.8201951981 0.0203746873885\n",
        "10.0657186508 10.0427494049 0.0229690354317\n",
        "9.37115764618 9.3456735611 0.0254836920649\n",
        "8.74869346619 8.72077941895 0.0279138889164\n",
        "8.19076251984 8.16049575806 0.0302668195218\n",
        "7.69035434723 7.65781354904 0.0325407125056\n",
        "7.24104213715"
       ]
      },
      {
       "output_type": "stream",
       "stream": "stdout",
       "text": [
        " 7.20630836487 0.0347336828709\n",
        "6.83701229095 6.80015945435 0.0368530265987\n",
        "6.47299671173 6.43409013748 0.0389066040516\n",
        "6.14423465729 6.10334396362 0.0408906489611\n",
        "5.84650659561 5.80369281769 0.0428139828146\n",
        "5.57613039017 5.53144407272 0.044686306268\n",
        "5.32990455627 5.28341007233 0.046494461596\n",
        "5.10510873795 5.0568614006 0.0482474900782\n",
        "4.89941215515 4.84945869446 0.0499536208808\n",
        "4.71081924438 4.65920972824 0.0516097247601\n",
        "4.53758955002 4.48436594009 0.0532237775624\n",
        "4.37810850143 4.32332134247 0.0547871999443\n"
       ]
      }
     ],
     "prompt_number": 140
    },
    {
     "cell_type": "code",
     "collapsed": false,
     "input": [
      "train(N_itr = 100, Eta = 0.001)"
     ],
     "language": "python",
     "metadata": {},
     "outputs": [
      {
       "output_type": "stream",
       "stream": "stdout",
       "text": [
        "4.21723985672\n",
        "4.22168493271"
       ]
      },
      {
       "output_type": "stream",
       "stream": "stdout",
       "text": [
        "\n",
        "4.20674371719"
       ]
      },
      {
       "output_type": "stream",
       "stream": "stdout",
       "text": [
        "\n",
        "4.05715942383"
       ]
      },
      {
       "output_type": "stream",
       "stream": "stdout",
       "text": [
        "\n",
        "4.16183280945"
       ]
      },
      {
       "output_type": "stream",
       "stream": "stdout",
       "text": [
        "\n",
        "4.36758089066"
       ]
      },
      {
       "output_type": "stream",
       "stream": "stdout",
       "text": [
        "\n",
        "4.1118850708"
       ]
      },
      {
       "output_type": "stream",
       "stream": "stdout",
       "text": [
        "\n",
        "4.29155349731"
       ]
      },
      {
       "output_type": "stream",
       "stream": "stdout",
       "text": [
        "\n",
        "4.19781255722"
       ]
      },
      {
       "output_type": "stream",
       "stream": "stdout",
       "text": [
        "\n",
        "4.25167417526"
       ]
      },
      {
       "output_type": "stream",
       "stream": "stdout",
       "text": [
        "\n",
        "20.2263736725"
       ]
      },
      {
       "output_type": "stream",
       "stream": "stdout",
       "text": [
        " 20.2263736725 0.0\n",
        "18.6205635071 18.6174926758 0.00307094561867\n",
        "17.111207962 17.105047226 0.00616137590259\n",
        "15.7370958328 15.7279129028 0.00918272323906\n",
        "14.4947757721 14.4826536179 0.012122082524\n",
        "13.3745861053 13.3596067429 0.0149791548029\n",
        "12.3658723831 12.3481216431 0.0177507456392\n",
        "11.4583654404 11.4379281998 0.0204371903092\n",
        "10.6425457001 10.6195011139 0.0230445750058\n",
        "9.90965270996 9.88407897949 0.0255741495639\n",
        "9.25162506104"
       ]
      },
      {
       "output_type": "stream",
       "stream": "stdout",
       "text": [
        " 9.22359275818 0.0280320290476\n",
        "8.66094684601 8.63053131104 0.0304151624441\n",
        "8.13062763214 8.09790420532 0.0327233485878\n",
        "7.6541762352 7.61922264099 0.0349534749985\n",
        "7.22560548782 7.18849468231 0.0371109284461\n",
        "6.83938789368 6.80019283295 0.0391950123012\n",
        "6.49049377441 6.44928455353 0.0412091463804\n",
        "6.17440366745 6.13125038147 0.0431534387171\n",
        "5.88715744019 5.84211778641 0.0450394749641\n",
        "5.62525844574 5.57841205597 0.0468463115394\n",
        "5.38579559326 5.33720684052 0.048588976264\n",
        "5.16631174088 5.11603403091 0.0502777770162\n",
        "4.96468877792 4.91277074814 0.0519182346761\n",
        "4.77907752991"
       ]
      },
      {
       "output_type": "stream",
       "stream": "stdout",
       "text": [
        " 4.72556066513 0.053516689688\n",
        "4.60785722733 4.5527806282 0.0550767630339\n"
       ]
      }
     ],
     "prompt_number": 141
    },
    {
     "cell_type": "code",
     "collapsed": false,
     "input": [
      "plt.subplot(1,2,1)\n",
      "plt.imshow(np.dot(t_A.get_value(), t_D.get_value())[1].reshape(14, 14),\n",
      "           interpolation = 'nearest',\n",
      "           cmap = plt.cm.gray)\n",
      "plt.colorbar()\n",
      "#plt.subplot(1,2,2)\n",
      "#plt.imshow(t_I.get_value()[I_idx][0].reshape(14, 14),\n",
      "#           interpolation = 'nearest',\n",
      "#           cmap = plt.cm.gray)\n",
      "#plt.colorbar()"
     ],
     "language": "python",
     "metadata": {},
     "outputs": [
      {
       "metadata": {},
       "output_type": "pyout",
       "prompt_number": 142,
       "text": [
        "<matplotlib.colorbar.Colorbar instance at 0x120f34998>"
       ]
      },
      {
       "metadata": {},
       "output_type": "display_data",
       "png": "[encoded data removed]",
       "text": [
        "<matplotlib.figure.Figure at 0x120fbab10>"
       ]
      }
     ],
     "prompt_number": 142
    },
    {
     "cell_type": "code",
     "collapsed": false,
     "input": [
      "show_fields(t_D.get_value())\n",
      "plt.savefig(output_dir + 'mnist_basis.png', dpi = 200)"
     ],
     "language": "python",
     "metadata": {},
     "outputs": [
      {
       "metadata": {},
       "output_type": "display_data",
       "png": "[encoded data removed]",
       "text": [
        "<matplotlib.figure.Figure at 0x11cdabdd0>"
       ]
      }
     ],
     "prompt_number": 147
    },
    {
     "cell_type": "code",
     "collapsed": false,
     "input": [
      "plt.hist(t_A.get_value().ravel())"
     ],
     "language": "python",
     "metadata": {},
     "outputs": [
      {
       "metadata": {},
       "output_type": "pyout",
       "prompt_number": 148,
       "text": [
        "(array([  2.00000000e+00,   2.00000000e+00,   1.10000000e+01,\n",
        "          3.30000000e+01,   4.30000000e+02,   4.82000000e+02,\n",
        "          3.78000000e+02,   7.10000000e+02,   2.68600000e+03,\n",
        "          1.66000000e+02]),\n",
        " array([-0.93890423, -0.8035964 , -0.66828858, -0.53298075, -0.39767293,\n",
        "        -0.2623651 , -0.12705728,  0.00825055,  0.14355837,  0.2788662 ,\n",
        "         0.41417402]),\n",
        " <a list of 10 Patch objects>)"
       ]
      },
      {
       "metadata": {},
       "output_type": "display_data",
       "png": "[encoded data removed]",
       "text": [
        "<matplotlib.figure.Figure at 0x120c22e50>"
       ]
      }
     ],
     "prompt_number": 148
    },
    {
     "cell_type": "code",
     "collapsed": false,
     "input": [
      "# Things to save:\n",
      "#  parameters of the model\n",
      "#  learned dictionary"
     ],
     "language": "python",
     "metadata": {},
     "outputs": [],
     "prompt_number": 149
    },
    {
     "cell_type": "code",
     "collapsed": false,
     "input": [
      "savemat(output_dir + 'mnist_dictionary.mat', {'D': t_D.get_value(), \n",
      "                                 'Alpha': Alpha})"
     ],
     "language": "python",
     "metadata": {},
     "outputs": [],
     "prompt_number": 150
    },
    {
     "cell_type": "code",
     "collapsed": false,
     "input": [],
     "language": "python",
     "metadata": {},
     "outputs": []
    }
   ],
   "metadata": {}
  }
 ]
}